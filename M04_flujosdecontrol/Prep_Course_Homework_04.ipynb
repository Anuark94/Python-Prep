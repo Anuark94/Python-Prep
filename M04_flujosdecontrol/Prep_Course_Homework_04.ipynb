{
 "cells": [
  {
   "attachments": {},
   "cell_type": "markdown",
   "metadata": {},
   "source": [
    "## Flujos de Control"
   ]
  },
  {
   "attachments": {},
   "cell_type": "markdown",
   "metadata": {},
   "source": [
    "1) Crear una variable que contenga un elemento del conjunto de números enteros y luego imprimir por pantalla si es mayor o menor a cero"
   ]
  },
  {
   "cell_type": "code",
   "execution_count": 8,
   "metadata": {},
   "outputs": [
    {
     "name": "stdout",
     "output_type": "stream",
     "text": [
      "7 Es mayor a cero\n"
     ]
    }
   ],
   "source": [
    "num = 7\n",
    "if num > 0:\n",
    "    print(num, 'Es mayor a cero')\n",
    "elif num < 0:\n",
    "    print(num, 'es menor a cero')\n",
    "\n",
    "else: \n",
    "    print(num, 'Es igual a cero')\n",
    "\n",
    "\n",
    "\n",
    "    "
   ]
  },
  {
   "attachments": {},
   "cell_type": "markdown",
   "metadata": {},
   "source": [
    "2) Crear dos variables y un condicional que informe si son del mismo tipo de dato"
   ]
  },
  {
   "cell_type": "code",
   "execution_count": 9,
   "metadata": {},
   "outputs": [
    {
     "name": "stdout",
     "output_type": "stream",
     "text": [
      "Los datos son del mismo tipo\n"
     ]
    }
   ],
   "source": [
    "var1 = '4'\n",
    "var2 = '2'\n",
    "if type(var1) == type(var2):\n",
    "    print('Los datos son del mismo tipo')\n",
    "\n",
    "else:\n",
    "    print('Los datos de tipos diferentes')\n",
    "\n"
   ]
  },
  {
   "attachments": {},
   "cell_type": "markdown",
   "metadata": {},
   "source": [
    "3) Para los valores enteros del 1 al 20, imprimir por pantalla si es par o impar"
   ]
  },
  {
   "cell_type": "code",
   "execution_count": 12,
   "metadata": {},
   "outputs": [
    {
     "name": "stdout",
     "output_type": "stream",
     "text": [
      "1 Es un numero impar\n",
      "2 Es un numero par\n",
      "3 Es un numero impar\n",
      "4 Es un numero par\n",
      "5 Es un numero impar\n",
      "6 Es un numero par\n",
      "7 Es un numero impar\n",
      "8 Es un numero par\n",
      "9 Es un numero impar\n",
      "10 Es un numero par\n",
      "11 Es un numero impar\n",
      "12 Es un numero par\n",
      "13 Es un numero impar\n",
      "14 Es un numero par\n",
      "15 Es un numero impar\n",
      "16 Es un numero par\n",
      "17 Es un numero impar\n",
      "18 Es un numero par\n",
      "19 Es un numero impar\n",
      "20 Es un numero par\n"
     ]
    }
   ],
   "source": [
    "for i in range(1, 21):\n",
    "    if i % 2 == 0:\n",
    "        print(i, 'Es un numero par')\n",
    "    else:\n",
    "        print(i, 'Es un numero impar')\n",
    "\n"
   ]
  },
  {
   "attachments": {},
   "cell_type": "markdown",
   "metadata": {},
   "source": [
    "4) En un ciclo for mostrar para los valores entre 0 y 5 el resultado de elevarlo a la potencia igual a 3"
   ]
  },
  {
   "cell_type": "code",
   "execution_count": 13,
   "metadata": {},
   "outputs": [
    {
     "name": "stdout",
     "output_type": "stream",
     "text": [
      "0\n",
      "1\n",
      "8\n",
      "27\n",
      "64\n",
      "125\n"
     ]
    }
   ],
   "source": [
    "for i in range(0, 6):\n",
    "    print(i**3)\n",
    "    \n"
   ]
  },
  {
   "attachments": {},
   "cell_type": "markdown",
   "metadata": {},
   "source": [
    "5) Crear una variable que contenga un número entero y realizar un ciclo for la misma cantidad de ciclos"
   ]
  },
  {
   "cell_type": "code",
   "execution_count": 14,
   "metadata": {},
   "outputs": [
    {
     "name": "stdout",
     "output_type": "stream",
     "text": [
      "0\n",
      "1\n",
      "2\n",
      "3\n",
      "4\n"
     ]
    }
   ],
   "source": [
    "hasta = 5\n",
    "for i in range(0, hasta):\n",
    "    print(i)\n",
    "\n"
   ]
  },
  {
   "attachments": {},
   "cell_type": "markdown",
   "metadata": {},
   "source": [
    "6) Utilizar un ciclo while para realizar el factorial de un número guardado en una variable, sólo si la variable contiene un número entero mayor a 0"
   ]
  },
  {
   "cell_type": "code",
   "execution_count": 23,
   "metadata": {},
   "outputs": [
    {
     "name": "stdout",
     "output_type": "stream",
     "text": [
      "El factorial de 7 es 5040\n"
     ]
    }
   ],
   "source": [
    "n= 7\n",
    "num = 1\n",
    "nume = n\n",
    "factorial = 1\n",
    "\n",
    "if type(n)== int and n > 0:\n",
    "    while num <= n:\n",
    "        factorial = factorial * num\n",
    "\n",
    "        num += 1\n",
    "    print(f'El factorial de {nume} es {factorial}')\n",
    "else: \n",
    "    print(f'El numero {n} no es mayor que cero ni tipo entero')\n",
    "\n",
    "\n"
   ]
  },
  {
   "attachments": {},
   "cell_type": "markdown",
   "metadata": {},
   "source": [
    "7) Crear un ciclo for dentro de un ciclo while"
   ]
  },
  {
   "cell_type": "code",
   "execution_count": 31,
   "metadata": {},
   "outputs": [
    {
     "name": "stdout",
     "output_type": "stream",
     "text": [
      "El numero del ciclo while es 1\n",
      "El numero del ciclo for es 1\n",
      "El numero del ciclo while es 2\n",
      "El numero del ciclo for es 1\n",
      "El numero del ciclo for es 2\n",
      "El numero del ciclo while es 3\n",
      "El numero del ciclo for es 1\n",
      "El numero del ciclo for es 2\n",
      "El numero del ciclo for es 3\n",
      "El numero del ciclo while es 4\n",
      "El numero del ciclo for es 1\n",
      "El numero del ciclo for es 2\n",
      "El numero del ciclo for es 3\n",
      "El numero del ciclo for es 4\n",
      "El numero del ciclo while es 5\n",
      "El numero del ciclo for es 1\n",
      "El numero del ciclo for es 2\n",
      "El numero del ciclo for es 3\n",
      "El numero del ciclo for es 4\n",
      "El numero del ciclo for es 5\n"
     ]
    }
   ],
   "source": [
    "num = 1\n",
    "\n",
    "while num <= 5:\n",
    "    print(f'El numero del ciclo while es {num}')\n",
    "\n",
    "    for i in range(1, num+1):\n",
    "        print(f'El numero del ciclo for es {i}')\n",
    "\n",
    "    num +=1\n",
    "\n",
    "\n",
    "\n",
    "\n"
   ]
  },
  {
   "attachments": {},
   "cell_type": "markdown",
   "metadata": {},
   "source": [
    "8) Crear un ciclo while dentro de un ciclo for"
   ]
  },
  {
   "cell_type": "code",
   "execution_count": 32,
   "metadata": {},
   "outputs": [
    {
     "name": "stdout",
     "output_type": "stream",
     "text": [
      "El numero del ciclo for es 1\n",
      "El numero de ciclo while es 1\n",
      "El numero de ciclo while es 2\n",
      "El numero de ciclo while es 3\n",
      "El numero de ciclo while es 4\n",
      "El numero de ciclo while es 5\n",
      "El numero del ciclo for es 2\n",
      "El numero de ciclo while es 1\n",
      "El numero de ciclo while es 2\n",
      "El numero de ciclo while es 3\n",
      "El numero de ciclo while es 4\n",
      "El numero de ciclo while es 5\n",
      "El numero del ciclo for es 3\n",
      "El numero de ciclo while es 1\n",
      "El numero de ciclo while es 2\n",
      "El numero de ciclo while es 3\n",
      "El numero de ciclo while es 4\n",
      "El numero de ciclo while es 5\n",
      "El numero del ciclo for es 4\n",
      "El numero de ciclo while es 1\n",
      "El numero de ciclo while es 2\n",
      "El numero de ciclo while es 3\n",
      "El numero de ciclo while es 4\n",
      "El numero de ciclo while es 5\n",
      "El numero del ciclo for es 5\n",
      "El numero de ciclo while es 1\n",
      "El numero de ciclo while es 2\n",
      "El numero de ciclo while es 3\n",
      "El numero de ciclo while es 4\n",
      "El numero de ciclo while es 5\n"
     ]
    }
   ],
   "source": [
    "n = 5\n",
    "for i in range(1, n+1):\n",
    "    print(f'El numero del ciclo for es {i}')\n",
    "    num = 1\n",
    "    while num <= n :\n",
    "        print(f'El numero de ciclo while es {num}')\n",
    "\n",
    "        num += 1\n",
    "        \n",
    "\n"
   ]
  },
  {
   "attachments": {},
   "cell_type": "markdown",
   "metadata": {},
   "source": [
    "9) Imprimir los números primos existentes entre 0 y 30"
   ]
  },
  {
   "cell_type": "code",
   "execution_count": 44,
   "metadata": {},
   "outputs": [
    {
     "name": "stdout",
     "output_type": "stream",
     "text": [
      "2 es un numero primo\n",
      "3 es un numero primo\n",
      "5 es un numero primo\n",
      "7 es un numero primo\n",
      "11 es un numero primo\n",
      "13 es un numero primo\n",
      "17 es un numero primo\n",
      "19 es un numero primo\n",
      "23 es un numero primo\n",
      "29 es un numero primo\n",
      "La cantidad de interacciones fue de 406\n"
     ]
    }
   ],
   "source": [
    "tope = 30\n",
    "\n",
    "n = 2\n",
    "primo = True\n",
    "contador_sin_break = 0\n",
    "while n <= tope:\n",
    "    for num in range(2, n):\n",
    "        contador_sin_break +=1\n",
    "        if n % num == 0:\n",
    "            primo = False\n",
    "            \n",
    "    if primo :\n",
    "        print(f'{n} es un numero primo')\n",
    "\n",
    "    else:\n",
    "        primo = True\n",
    "    \n",
    "    n += 1\n",
    "print(f'La cantidad de interacciones fue de {contador_sin_break}')"
   ]
  },
  {
   "attachments": {},
   "cell_type": "markdown",
   "metadata": {},
   "source": [
    "10) ¿Se puede mejorar el proceso del punto 9? Utilizar las sentencias break y/ó continue para tal fin"
   ]
  },
  {
   "cell_type": "code",
   "execution_count": 45,
   "metadata": {},
   "outputs": [
    {
     "name": "stdout",
     "output_type": "stream",
     "text": [
      "2 es un numero primo\n",
      "3 es un numero primo\n",
      "5 es un numero primo\n",
      "7 es un numero primo\n",
      "11 es un numero primo\n",
      "13 es un numero primo\n",
      "17 es un numero primo\n",
      "19 es un numero primo\n",
      "23 es un numero primo\n",
      "29 es un numero primo\n",
      "La cantidad de interaciones con break es de 135\n"
     ]
    }
   ],
   "source": [
    "tope = 30\n",
    "\n",
    "n = 2\n",
    "primo = True\n",
    "contado_con_break = 0\n",
    "while n <= tope:\n",
    "    for num in range(2, n):\n",
    "        contado_con_break += 1\n",
    "        if n % num == 0:\n",
    "            primo = False\n",
    "            break\n",
    "    if primo :\n",
    "        print(f'{n} es un numero primo')\n",
    "\n",
    "    else:\n",
    "        primo = True\n",
    "    \n",
    "    n += 1\n",
    "print(f'La cantidad de interaciones con break es de {contado_con_break}')\n"
   ]
  },
  {
   "attachments": {},
   "cell_type": "markdown",
   "metadata": {},
   "source": [
    "11) En los puntos 9 y 10, se diseño un código que encuentra números primos y además se lo optimizó. ¿Es posible saber en qué medida se optimizó?"
   ]
  },
  {
   "cell_type": "code",
   "execution_count": 47,
   "metadata": {},
   "outputs": [
    {
     "data": {
      "text/plain": [
       "0.33251231527093594"
      ]
     },
     "execution_count": 47,
     "metadata": {},
     "output_type": "execute_result"
    }
   ],
   "source": [
    "#Si, se realiza agregó un contador en cada bloque de codigos y se evalua el rendiento de ambos\n",
    "contado_con_break/contador_sin_break\n",
    "\n",
    "# El resulado es de un 33% de reduccion de interacciones al utilizar el break\n"
   ]
  },
  {
   "attachments": {},
   "cell_type": "markdown",
   "metadata": {},
   "source": [
    "12) Si la cantidad de números que se evalúa es mayor a treinta, esa optimización crece?"
   ]
  },
  {
   "cell_type": "code",
   "execution_count": 50,
   "metadata": {},
   "outputs": [
    {
     "name": "stdout",
     "output_type": "stream",
     "text": [
      "2 es un numero primo\n",
      "3 es un numero primo\n",
      "5 es un numero primo\n",
      "7 es un numero primo\n",
      "11 es un numero primo\n",
      "13 es un numero primo\n",
      "17 es un numero primo\n",
      "19 es un numero primo\n",
      "23 es un numero primo\n",
      "29 es un numero primo\n",
      "31 es un numero primo\n",
      "37 es un numero primo\n",
      "41 es un numero primo\n",
      "43 es un numero primo\n",
      "47 es un numero primo\n",
      "La cantidad de interacciones fue de 1176\n"
     ]
    }
   ],
   "source": [
    "tope = 50\n",
    "\n",
    "n = 2\n",
    "primo = True\n",
    "contador_sin_break2 = 0\n",
    "while n <= tope:\n",
    "    for num in range(2, n):\n",
    "        contador_sin_break2 +=1\n",
    "        if n % num == 0:\n",
    "            primo = False\n",
    "            \n",
    "    if primo :\n",
    "        print(f'{n} es un numero primo')\n",
    "\n",
    "    else:\n",
    "        primo = True\n",
    "    \n",
    "    n += 1\n",
    "print(f'La cantidad de interacciones fue de {contador_sin_break2}')"
   ]
  },
  {
   "cell_type": "code",
   "execution_count": 51,
   "metadata": {},
   "outputs": [
    {
     "name": "stdout",
     "output_type": "stream",
     "text": [
      "2 es un numero primo\n",
      "3 es un numero primo\n",
      "5 es un numero primo\n",
      "7 es un numero primo\n",
      "11 es un numero primo\n",
      "13 es un numero primo\n",
      "17 es un numero primo\n",
      "19 es un numero primo\n",
      "23 es un numero primo\n",
      "29 es un numero primo\n",
      "31 es un numero primo\n",
      "37 es un numero primo\n",
      "41 es un numero primo\n",
      "43 es un numero primo\n",
      "47 es un numero primo\n",
      "La cantidad de interacciones fue de 350\n"
     ]
    }
   ],
   "source": [
    "tope = 50\n",
    "\n",
    "n = 2\n",
    "primo = True\n",
    "contador_con_break2 = 0\n",
    "while n <= tope:\n",
    "    for num in range(2, n):\n",
    "        contador_con_break2 +=1\n",
    "        if n % num == 0:\n",
    "            primo = False\n",
    "            break\n",
    "            \n",
    "    if primo :\n",
    "        print(f'{n} es un numero primo')\n",
    "\n",
    "    else:\n",
    "        primo = True\n",
    "    \n",
    "    n += 1\n",
    "print(f'La cantidad de interacciones fue de {contador_con_break2}')"
   ]
  },
  {
   "cell_type": "code",
   "execution_count": 52,
   "metadata": {},
   "outputs": [
    {
     "data": {
      "text/plain": [
       "0.2976190476190476"
      ]
     },
     "execution_count": 52,
     "metadata": {},
     "output_type": "execute_result"
    }
   ],
   "source": [
    "# Se evalua si se mantiene la optimizacion del break aumentando la cantidad de numeros a evaluar\n",
    "contador_con_break2/contador_sin_break2\n",
    "# Entre mas se aumenta el numero se optimiza aun mas el codigo"
   ]
  },
  {
   "attachments": {},
   "cell_type": "markdown",
   "metadata": {},
   "source": [
    "13) Aplicando continue, armar un ciclo while que solo imprima los valores divisibles por 12, dentro del rango de números de 100 a 300"
   ]
  },
  {
   "cell_type": "code",
   "execution_count": 54,
   "metadata": {},
   "outputs": [
    {
     "name": "stdout",
     "output_type": "stream",
     "text": [
      "108 Es divisible por 12\n",
      "120 Es divisible por 12\n",
      "132 Es divisible por 12\n",
      "144 Es divisible por 12\n",
      "156 Es divisible por 12\n",
      "168 Es divisible por 12\n",
      "180 Es divisible por 12\n",
      "192 Es divisible por 12\n",
      "204 Es divisible por 12\n",
      "216 Es divisible por 12\n",
      "228 Es divisible por 12\n",
      "240 Es divisible por 12\n",
      "252 Es divisible por 12\n",
      "264 Es divisible por 12\n",
      "276 Es divisible por 12\n",
      "288 Es divisible por 12\n",
      "300 Es divisible por 12\n"
     ]
    }
   ],
   "source": [
    "n = 100\n",
    "\n",
    "while n <= 300:\n",
    "    if n % 12 != 0:\n",
    "        n +=1\n",
    "        continue\n",
    "    else:\n",
    "        print(f'{n} Es divisible por 12')\n",
    "    \n",
    "    n +=1\n",
    "\n",
    "\n",
    "    "
   ]
  },
  {
   "attachments": {},
   "cell_type": "markdown",
   "metadata": {},
   "source": [
    "14) Utilizar la función **input()** que permite hacer ingresos por teclado, para encontrar números primos y dar la opción al usario de buscar el siguiente"
   ]
  },
  {
   "cell_type": "code",
   "execution_count": 9,
   "metadata": {},
   "outputs": [
    {
     "name": "stdout",
     "output_type": "stream",
     "text": [
      " 2 Es un numero primo\n",
      " 3 Es un numero primo\n"
     ]
    },
    {
     "ename": "KeyboardInterrupt",
     "evalue": "",
     "output_type": "error",
     "traceback": [
      "\u001b[1;31m---------------------------------------------------------------------------\u001b[0m",
      "\u001b[1;31mKeyboardInterrupt\u001b[0m                         Traceback (most recent call last)",
      "Cell \u001b[1;32mIn[9], line 4\u001b[0m\n\u001b[0;32m      2\u001b[0m buscar_primo \u001b[39m=\u001b[39m \u001b[39mTrue\u001b[39;00m\n\u001b[0;32m      3\u001b[0m primo \u001b[39m=\u001b[39m \u001b[39mTrue\u001b[39;00m\n\u001b[1;32m----> 4\u001b[0m \u001b[39mwhile\u001b[39;00m buscar_primo: \n\u001b[0;32m      6\u001b[0m     \u001b[39mfor\u001b[39;00m i \u001b[39min\u001b[39;00m \u001b[39mrange\u001b[39m(\u001b[39m2\u001b[39m, num):\n\u001b[0;32m      7\u001b[0m         \u001b[39mif\u001b[39;00m num \u001b[39m%\u001b[39m i \u001b[39m==\u001b[39m \u001b[39m0\u001b[39m:\n",
      "\u001b[1;31mKeyboardInterrupt\u001b[0m: "
     ]
    }
   ],
   "source": [
    "num = 2\n",
    "buscar_primo = True\n",
    "primo = True\n",
    "while buscar_primo: \n",
    "    \n",
    "    for i in range(2, num):\n",
    "        if num % i == 0:\n",
    "            primo = False\n",
    "            continue\n",
    "                \n",
    "    if primo :\n",
    "        print(f' {num} Es un numero primo')\n",
    "        Respuesta = input('¿Desea continuar buscando los siguientes numeros primos? ---> Escribi  SI o  NO')\n",
    "\n",
    "        if Respuesta == 'SI':\n",
    "            buscar_primo = True\n",
    "            num +=1\n",
    "        \n",
    "        else:\n",
    "            Respuesta == 'NO'\n",
    "            buscar_primo = False\n",
    "\n",
    "    else:\n",
    "         primo = True"
   ]
  },
  {
   "attachments": {},
   "cell_type": "markdown",
   "metadata": {},
   "source": [
    "15) Crear un ciclo while que encuentre dentro del rango de 100 a 300 el primer número divisible por 3 y además múltiplo de 6"
   ]
  },
  {
   "cell_type": "code",
   "execution_count": 3,
   "metadata": {},
   "outputs": [
    {
     "name": "stdout",
     "output_type": "stream",
     "text": [
      "102 es divisible por 3 y multiplo de 6\n"
     ]
    }
   ],
   "source": [
    "n= 100\n",
    "\n",
    "while n <= 300:\n",
    "    if n % 3 == 0 and n % 6== 0:\n",
    "        print(f'{n} es divisible por 3 y multiplo de 6')\n",
    "        break\n",
    "\n",
    "    \n",
    "    n +=1\n"
   ]
  }
 ],
 "metadata": {
  "interpreter": {
   "hash": "c85384e4cb51c8b72350f3a8712cc8351fdc3955e32a27f9b60c6242ab125f01"
  },
  "kernelspec": {
   "display_name": "Python 3 (ipykernel)",
   "language": "python",
   "name": "python3"
  },
  "language_info": {
   "codemirror_mode": {
    "name": "ipython",
    "version": 3
   },
   "file_extension": ".py",
   "mimetype": "text/x-python",
   "name": "python",
   "nbconvert_exporter": "python",
   "pygments_lexer": "ipython3",
   "version": "3.11.3"
  }
 },
 "nbformat": 4,
 "nbformat_minor": 4
}
