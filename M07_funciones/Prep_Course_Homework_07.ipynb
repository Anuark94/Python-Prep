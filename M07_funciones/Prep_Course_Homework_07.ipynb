{
 "cells": [
  {
   "attachments": {},
   "cell_type": "markdown",
   "metadata": {},
   "source": [
    "## Funciones"
   ]
  },
  {
   "attachments": {},
   "cell_type": "markdown",
   "metadata": {},
   "source": [
    "1) Crear una función que reciba un número como parámetro y devuelva True si es primo y False si no lo es"
   ]
  },
  {
   "cell_type": "code",
   "execution_count": 6,
   "metadata": {},
   "outputs": [],
   "source": [
    "def numero_primo(nnumero):\n",
    "    primo = True\n",
    "    if nnumero <= 1:\n",
    "        return f'{nnumero} No es un numero primo'\n",
    "    elif nnumero == 2:\n",
    "       return True\n",
    "    else:\n",
    "     for i in range(2, nnumero):\n",
    "        if nnumero % i == 0:\n",
    "            primo = False\n",
    "            break\n",
    "       \n",
    "    if primo :\n",
    "       return primo\n",
    "    else:\n",
    "       return primo\n",
    "      \n",
    "    \n",
    "Es_primo_o_no = numero_primo(-2)\n",
    "\n",
    "    \n"
   ]
  },
  {
   "cell_type": "code",
   "execution_count": 7,
   "metadata": {},
   "outputs": [
    {
     "name": "stdout",
     "output_type": "stream",
     "text": [
      "-2 No es un numero primo\n"
     ]
    }
   ],
   "source": [
    "print(Es_primo_o_no)"
   ]
  },
  {
   "attachments": {},
   "cell_type": "markdown",
   "metadata": {},
   "source": [
    "2) Utilizando la función del punto 1, realizar otra función que reciba de parámetro una lista de números y devuelva sólo aquellos que son primos en otra lista"
   ]
  },
  {
   "cell_type": "code",
   "execution_count": 54,
   "metadata": {},
   "outputs": [],
   "source": [
    "\n",
    "def lista_numeros_primos(lista):\n",
    "    n = 0\n",
    "    lista_prim = []\n",
    "    while n < len(lista):\n",
    "        if numero_primo(lista[n]) == True:\n",
    "            lista_prim.append(lista[n])\n",
    "        n += 1\n",
    "        \n",
    "    return lista_prim\n",
    "\n",
    "\n"
   ]
  },
  {
   "cell_type": "code",
   "execution_count": 57,
   "metadata": {},
   "outputs": [
    {
     "name": "stdout",
     "output_type": "stream",
     "text": [
      "[2, 3, 5, 7]\n"
     ]
    }
   ],
   "source": [
    "numeros2 = [1, 2, 3, 4, 5, 6, 7, 8, 9, 10]\n",
    "\n",
    "lista_nueva = lista_numeros_primos(numeros2)\n",
    "print(lista_nueva)\n",
    "\n"
   ]
  },
  {
   "cell_type": "code",
   "execution_count": 12,
   "metadata": {},
   "outputs": [],
   "source": [
    "#Forma de hacerlo con for\n",
    "def encuentra_primos(lista3):\n",
    "    list_numerosprim = []\n",
    "    for n in lista3:\n",
    "        if numero_primo(n) == True:\n",
    "            list_numerosprim.append(n)\n",
    "\n",
    "    return list_numerosprim"
   ]
  },
  {
   "cell_type": "code",
   "execution_count": 14,
   "metadata": {},
   "outputs": [
    {
     "name": "stdout",
     "output_type": "stream",
     "text": [
      "[2, 3, 5, 7]\n"
     ]
    }
   ],
   "source": [
    "numeros6 = [1, 2, 3, 4, 5, 6, 7, 8, 9, 10, 0, 15, 10, 18]\n",
    "\n",
    "print(encuentra_primos(numeros6))\n",
    "\n",
    "\n"
   ]
  },
  {
   "attachments": {},
   "cell_type": "markdown",
   "metadata": {},
   "source": [
    "3) Crear una función que al recibir una lista de números, devuelva el que más se repite y cuántas veces lo hace. Si hay más de un \"más repetido\", que devuelva cualquiera"
   ]
  },
  {
   "cell_type": "code",
   "execution_count": 18,
   "metadata": {},
   "outputs": [],
   "source": [
    "def numeros_repetidos(numeros3):\n",
    "    veces_que_repite = 0\n",
    "    for i in numeros3:\n",
    "        repeticion = numeros3.count(i)\n",
    "        if repeticion > veces_que_repite:\n",
    "            veces_que_repite = repeticion\n",
    "            numero_mas_repe = i\n",
    "    return f'El numero {numero_mas_repe} se repite {veces_que_repite} veces'\n",
    "        \n",
    "\n",
    "    \n",
    "        "
   ]
  },
  {
   "cell_type": "code",
   "execution_count": 37,
   "metadata": {},
   "outputs": [
    {
     "name": "stdout",
     "output_type": "stream",
     "text": [
      "El numero 5 se repite 6 veces\n"
     ]
    }
   ],
   "source": [
    "varios = [1, 5, 5, 5, 5, 5, 5, 1, 4, 6, 1, 1, 3, 3, 3]\n",
    "\n",
    "evaluar_lista = numeros_repetidos(varios)\n",
    "print(evaluar_lista)"
   ]
  },
  {
   "cell_type": "code",
   "execution_count": 69,
   "metadata": {},
   "outputs": [],
   "source": [
    "# Otra manera de hacerlo\n",
    "def mas_se_repite(lista_evaluar):\n",
    "    repetidos = []\n",
    "    mayor_repetido = 0\n",
    "    veces_que_se_repite = 0\n",
    "    for i in lista_evaluar:\n",
    "        if lista_evaluar.count(i) > 1 :\n",
    "            repetidos.append(i)\n",
    "    for j in repetidos:\n",
    "        if repetidos.count(j) > veces_que_se_repite:\n",
    "            veces_que_se_repite = repetidos.count(j)\n",
    "            mayor_repetido = j\n",
    "    return f'El numero {mayor_repetido} se repite {veces_que_se_repite} veces y es el que mas se repite'\n",
    "\n"
   ]
  },
  {
   "cell_type": "code",
   "execution_count": 71,
   "metadata": {},
   "outputs": [
    {
     "name": "stdout",
     "output_type": "stream",
     "text": [
      "El numero 2 se repite 9 veces y es el que mas se repite\n"
     ]
    }
   ],
   "source": [
    "nueva_list = [2, 2, 2, 2, 2, 2, 2, 2, 5, 5, 5, 5, 5, 5, 2, 4, 3, 3, 3, 3, 3, 3, 3]\n",
    "\n",
    "print(mas_se_repite(nueva_list))"
   ]
  },
  {
   "cell_type": "code",
   "execution_count": 72,
   "metadata": {},
   "outputs": [],
   "source": [
    "#usando diccionario\n",
    "def repite_mas(numeros_a_ver):\n",
    "    contador = {}\n",
    "    for i in numeros_a_ver:\n",
    "        if i in contador.keys():\n",
    "            contador[i] += 1\n",
    "        else:\n",
    "            contador[i] = 1\n",
    "            \n",
    "    return contador\n",
    "\n"
   ]
  },
  {
   "cell_type": "code",
   "execution_count": 73,
   "metadata": {},
   "outputs": [
    {
     "name": "stdout",
     "output_type": "stream",
     "text": [
      "{2: 9, 5: 6, 4: 1, 3: 7}\n"
     ]
    }
   ],
   "source": [
    "print(repite_mas(nueva_list))"
   ]
  },
  {
   "attachments": {},
   "cell_type": "markdown",
   "metadata": {},
   "source": [
    "4) A la función del punto 3, agregar un parámetro más, que permita elegir si se requiere el menor o el mayor de los mas repetidos."
   ]
  },
  {
   "cell_type": "code",
   "execution_count": 74,
   "metadata": {},
   "outputs": [],
   "source": [
    "# si eligen imprimir mayor escribir 1; si elige impirmir menor escribir 2\n",
    "def numeros_repetidos(numeros3, mayor_o_menor):\n",
    "    mayor = 0\n",
    "    menor = 0\n",
    "\n",
    "    num_rep = []\n",
    "    veces_que_repite = 1\n",
    "    for i in numeros3:\n",
    "        repeticion = numeros3.count(i)\n",
    "            \n",
    "        if repeticion > veces_que_repite:\n",
    "            veces_que_repite = repeticion\n",
    "            numero_mas_repe = i\n",
    "            num_rep.append(num_rep)\n",
    "    for j in num_rep:\n",
    "        if j > mayor:\n",
    "            mayor = j\n",
    "        min()\n",
    "    if mayor_o_menor == 1:\n",
    "        return f' El numero {mayor} es el mayor de los mas repetidos'\n",
    "    else: \n",
    "        return f'El numero {menor} es el menor de los mas repetidos'\n",
    " \n",
    "    "
   ]
  },
  {
   "cell_type": "code",
   "execution_count": 76,
   "metadata": {},
   "outputs": [
    {
     "ename": "TypeError",
     "evalue": "'>' not supported between instances of 'list' and 'int'",
     "output_type": "error",
     "traceback": [
      "\u001b[1;31m---------------------------------------------------------------------------\u001b[0m",
      "\u001b[1;31mTypeError\u001b[0m                                 Traceback (most recent call last)",
      "Cell \u001b[1;32mIn[76], line 2\u001b[0m\n\u001b[0;32m      1\u001b[0m varios \u001b[39m=\u001b[39m [\u001b[39m1\u001b[39m, \u001b[39m3\u001b[39m, \u001b[39m5\u001b[39m, \u001b[39m1\u001b[39m, \u001b[39m4\u001b[39m, \u001b[39m6\u001b[39m, \u001b[39m1\u001b[39m, \u001b[39m1\u001b[39m, \u001b[39m3\u001b[39m, \u001b[39m3\u001b[39m, \u001b[39m3\u001b[39m, \u001b[39m3\u001b[39m]\n\u001b[1;32m----> 2\u001b[0m evaluar \u001b[39m=\u001b[39m numeros_repetidos(varios, \u001b[39m1\u001b[39;49m)\n\u001b[0;32m      3\u001b[0m \u001b[39mprint\u001b[39m(evaluar)\n",
      "Cell \u001b[1;32mIn[74], line 16\u001b[0m, in \u001b[0;36mnumeros_repetidos\u001b[1;34m(numeros3, mayor_o_menor)\u001b[0m\n\u001b[0;32m     14\u001b[0m         num_rep\u001b[39m.\u001b[39mappend(num_rep)\n\u001b[0;32m     15\u001b[0m \u001b[39mfor\u001b[39;00m j \u001b[39min\u001b[39;00m num_rep:\n\u001b[1;32m---> 16\u001b[0m     \u001b[39mif\u001b[39;00m j \u001b[39m>\u001b[39;49m mayor:\n\u001b[0;32m     17\u001b[0m         mayor \u001b[39m=\u001b[39m j\n\u001b[0;32m     18\u001b[0m     \u001b[39mif\u001b[39;00m j \u001b[39m<\u001b[39m mayor:\n",
      "\u001b[1;31mTypeError\u001b[0m: '>' not supported between instances of 'list' and 'int'"
     ]
    }
   ],
   "source": [
    "varios = [1, 3, 5, 1, 4, 6, 1, 1, 3, 3, 3, 3]\n",
    "evaluar = numeros_repetidos(varios, 1)\n",
    "print(evaluar)"
   ]
  },
  {
   "cell_type": "code",
   "execution_count": 86,
   "metadata": {},
   "outputs": [],
   "source": [
    "def mas_se_repite(lista_evaluar, mayor_o_men):\n",
    "    \n",
    "    repetidos = []\n",
    "    mayor_repetido = 0\n",
    "    veces_que_se_repite = 0\n",
    "    for i in lista_evaluar:\n",
    "        if lista_evaluar.count(i) > 1 :\n",
    "            repetidos.append(i)\n",
    "    for j in repetidos:\n",
    "        if repetidos.count(j) > veces_que_se_repite:\n",
    "            veces_que_se_repite = repetidos.count(j)\n",
    "            mayor_repetido = j\n",
    "\n",
    "    if mayor_o_men == \"mayor\":\n",
    "        mayor = max(repetidos)\n",
    "        return repetidos, f'El numero {mayor_repetido} se repite {veces_que_se_repite} veces y es el que mas se repite', f'Es {mayor} es el mayor de los repetidos'\n",
    "    else:\n",
    "        menor = min(repetidos)\n",
    "        return repetidos, f'El numero {mayor_repetido} se repite {veces_que_se_repite} veces y es el que mas se repite', f'Es {menor} es el menor de los repetidos'\n",
    "    \n",
    "    \n",
    "    \n"
   ]
  },
  {
   "cell_type": "code",
   "execution_count": 87,
   "metadata": {},
   "outputs": [
    {
     "name": "stdout",
     "output_type": "stream",
     "text": [
      "([1, 3, 1, 1, 1, 3, 3, 3, 3], 'El numero 3 se repite 5 veces y es el que mas se repite', 'Es 3 es el mayor de los repetidos')\n"
     ]
    }
   ],
   "source": [
    "print(mas_se_repite(varios, \"mayor\"))"
   ]
  },
  {
   "attachments": {},
   "cell_type": "markdown",
   "metadata": {},
   "source": [
    "5) Crear una función que convierta entre grados Celsius, Farenheit y Kelvin<br>\n",
    "Fórmula 1\t: (°C × 9/5) + 32 = °F<br>\n",
    "Fórmula 2\t: °C + 273.15 = °K<br>\n",
    "Debe recibir 3 parámetros: el valor, la medida de orígen y la medida de destino\n"
   ]
  },
  {
   "cell_type": "code",
   "execution_count": 92,
   "metadata": {},
   "outputs": [],
   "source": [
    "def convertidor_de_medidas(valor_a_convertir, medida_actual, medida_a_convertir):\n",
    "    if medida_actual == 'Celsius' and medida_a_convertir == 'Farenheit' :\n",
    "        preope1 = valor_a_convertir * 1,8\n",
    "        valorF =  preope1 + 32\n",
    "    elif medida_actual == 'Celsius' and medida_a_convertir == 'Kelvin':\n",
    "        valorF = 273,15 + valor_a_convertir\n",
    "    elif medida_actual == 'Kelvin' and medida_a_convertir == 'Celsius':\n",
    "        valorF = medida_a_convertir - 273,15\n",
    "    elif medida_actual == 'Farenheit' and medida_a_convertir == 'Celsius':\n",
    "        preope1 = valor_a_convertir -32\n",
    "        valorF = preope1 / 1,8\n",
    "\n",
    "    return f'{valor_a_convertir} + {medida_actual} equivalen a {valorF} + {medida_a_convertir}'\n",
    "\n"
   ]
  },
  {
   "cell_type": "code",
   "execution_count": 93,
   "metadata": {},
   "outputs": [
    {
     "name": "stdout",
     "output_type": "stream",
     "text": [
      "10 + Celsius equivalen a (273, 25) + Kelvin\n"
     ]
    }
   ],
   "source": [
    "print(convertidor_de_medidas(10, 'Celsius', 'Kelvin'))\n"
   ]
  },
  {
   "attachments": {},
   "cell_type": "markdown",
   "metadata": {},
   "source": [
    "6) Iterando una lista con los tres valores posibles de temperatura que recibe la función del punto 5, hacer un print para cada combinación de los mismos:"
   ]
  },
  {
   "cell_type": "code",
   "execution_count": null,
   "metadata": {},
   "outputs": [],
   "source": []
  },
  {
   "attachments": {},
   "cell_type": "markdown",
   "metadata": {},
   "source": [
    "7) Armar una función que devuelva el factorial de un número. Tener en cuenta que el usuario puede equivocarse y enviar de parámetro un número no entero o negativo"
   ]
  },
  {
   "cell_type": "code",
   "execution_count": null,
   "metadata": {},
   "outputs": [],
   "source": []
  }
 ],
 "metadata": {
  "interpreter": {
   "hash": "c85384e4cb51c8b72350f3a8712cc8351fdc3955e32a27f9b60c6242ab125f01"
  },
  "kernelspec": {
   "display_name": "Python 3 (ipykernel)",
   "language": "python",
   "name": "python3"
  },
  "language_info": {
   "codemirror_mode": {
    "name": "ipython",
    "version": 3
   },
   "file_extension": ".py",
   "mimetype": "text/x-python",
   "name": "python",
   "nbconvert_exporter": "python",
   "pygments_lexer": "ipython3",
   "version": "3.11.3"
  }
 },
 "nbformat": 4,
 "nbformat_minor": 4
}
